{
  "nbformat": 4,
  "nbformat_minor": 0,
  "metadata": {
    "colab": {
      "name": "Aula 3 - Python para Processamento de Linguagem Natural.ipynb",
      "provenance": [],
      "collapsed_sections": [],
      "authorship_tag": "ABX9TyPHTb7bMYjxAuuQ6aVC0T++",
      "include_colab_link": true
    },
    "kernelspec": {
      "name": "python3",
      "display_name": "Python 3"
    },
    "language_info": {
      "name": "python"
    }
  },
  "cells": [
    {
      "cell_type": "markdown",
      "metadata": {
        "id": "view-in-github",
        "colab_type": "text"
      },
      "source": [
        "<a href=\"https://colab.research.google.com/github/FGalvao77/Python-para-Processamento-de-Linguagem-Natural/blob/main/Aula_3_Python_para_Processamento_de_Linguagem_Natural.ipynb\" target=\"_parent\"><img src=\"https://colab.research.google.com/assets/colab-badge.svg\" alt=\"Open In Colab\"/></a>"
      ]
    },
    {
      "cell_type": "markdown",
      "metadata": {
        "id": "7jKULgyVF1AQ"
      },
      "source": [
        "# **Python para Processamento de Linguagem Natural - Aula 3**"
      ]
    },
    {
      "cell_type": "code",
      "metadata": {
        "colab": {
          "base_uri": "https://localhost:8080/",
          "height": 421
        },
        "id": "kcqf6s6i4alP",
        "outputId": "248d7ad6-8f35-4761-9ad5-d1c3e80deb1c"
      },
      "source": [
        "# importando a lib para exibir vídeo do YouTube\n",
        "from IPython.display import YouTubeVideo\n",
        "\n",
        "# vídeo da aula\n",
        "YouTubeVideo(id=\"https://www.youtube.com/watch?v=AdsgZizoxrs\", width=600, height=400)"
      ],
      "execution_count": null,
      "outputs": [
        {
          "output_type": "execute_result",
          "data": {
            "text/html": [
              "\n",
              "        <iframe\n",
              "            width=\"600\"\n",
              "            height=\"400\"\n",
              "            src=\"https://www.youtube.com/embed/https://www.youtube.com/watch?v=AdsgZizoxrs\"\n",
              "            frameborder=\"0\"\n",
              "            allowfullscreen\n",
              "        ></iframe>\n",
              "        "
            ],
            "text/plain": [
              "<IPython.lib.display.YouTubeVideo at 0x7f3f5e44a750>"
            ]
          },
          "metadata": {},
          "execution_count": 71
        }
      ]
    },
    {
      "cell_type": "code",
      "metadata": {
        "colab": {
          "base_uri": "https://localhost:8080/",
          "height": 336
        },
        "id": "aIX5nR6M3Ett",
        "outputId": "5bf19fe0-0655-482e-ee80-707f3ae3d884"
      },
      "source": [
        "from IPython.display import HTML\n",
        "HTML('''<iframe width=\"560\" height=\"315\" \n",
        "        src=\"https://www.youtube.com/watch?v=AdsgZizoxrs\" \n",
        "        frameborder=\"0\" allow=\"accelerometer; autoplay; encrypted-media; \n",
        "        gyroscope; picture-in-picture\" allowfullscreen></iframe>''')"
      ],
      "execution_count": null,
      "outputs": [
        {
          "output_type": "execute_result",
          "data": {
            "text/html": [
              "<iframe width=\"560\" height=\"315\" \n",
              "        src=\"https://www.youtube.com/watch?v=AdsgZizoxrs\" \n",
              "        frameborder=\"0\" allow=\"accelerometer; autoplay; encrypted-media; \n",
              "        gyroscope; picture-in-picture\" allowfullscreen></iframe>"
            ],
            "text/plain": [
              "<IPython.core.display.HTML object>"
            ]
          },
          "metadata": {},
          "execution_count": 72
        }
      ]
    },
    {
      "cell_type": "code",
      "metadata": {
        "colab": {
          "base_uri": "https://localhost:8080/"
        },
        "id": "374EcYpPFtHe",
        "outputId": "22361e33-425f-4e8c-acb5-12e5cddac0fb"
      },
      "source": [
        "# instanciando o caminho do arquivo de texto\n",
        "arquivo_entrada = open('/content/corpus_teste.txt', 'r')\n",
        "# arquivo_entrada.close()\n",
        "\n",
        "# realizando a leitura do arquivo e instanciando na variável \"texto\"\n",
        "texto = arquivo_entrada.read()\n",
        "print(texto)    # visualizando o texto"
      ],
      "execution_count": null,
      "outputs": [
        {
          "output_type": "stream",
          "name": "stdout",
          "text": [
            "Giants batem os Patriots no Super Bowl XLII\n",
            "Azarões acabam com a invencibilidade de New England e ficam com o título da temporada\n",
            "04/02/2008 - 01h07m - Atualizado em 04/02/2008 - 09h49m\n",
            "\n",
            "Com um passe de Eli Manning para Plaxico Burress a 39 segundos do fim, o New York Giants anotou o touchdown decisivo e derrubou o favorito New England Patriots por 17 a 14 neste domingo, em Glendale, no Super Bowl XLII. O resultado, uma das maiores zebras da história do Super Bowl, acabou com a temporada perfeita de Tom Brady e companhia, que esperavam fazer história ao levantar o troféu da NFL sem sofrer uma derrota no ano. \n",
            "\n",
            "A vitória dos Giants, porém, também ficará para a história. Pela primeira vez, irmãos quarterbacks triunfam no Super Bowl em temporadas consecutivas. No ano passado, Peyton Manning, irmão de Eli, chegou ao título máximo da NFL pelo Indianapolis Colts.\n",
            "\n",
            "A partida\n",
            "\n",
            "Os Giants começaram com a posse de bola, e mostraram logo que iriam alongar ao máximo suas posses de bola. Misturando corridas com Brandon Jacobs e passes curtos, o time de Nova York chegou à red zone logo na primeira campanha. O avanço, no entanto, parou na linha de 17 jardas e Lawrence Tynes converteu o field goal de 32 jardas para abrir o placar.\n",
            "\n",
            "Eli Manning e companhia ficaram 9m54s com a bola, mas o ataque dos Patriots não entrou em campo frio. Logo no retorno do kickoff, o running back Laurence Maroney avançou 43 jardas, deixando Tom Brady em boa posição. Com passes curtos, os Patriots chegaram à linha de 17 jardas e, graças a uma penalidade (interferência de passe) do linebacker Antonio Pierce, alcançaram a linha de uma jarda. Maroney avançou pelo chão e anotou o primeiro touchdown do jogo.\n",
            "\n",
            "Os Giants pareciam rumo à virada na campanha seguinte. Manning achou Amani Toomer para um avanço de 38 jardas, e o time de Nova York entrou novamente na red zone. Com a bola na linha de 14 jardas dos Patriots, os Giants sofreram um revés. Manning passou para Steve Smith, que soltou a bola. Ellis Hobbs aproveitou, tomou a posse para os Patriots, e avançou 23 jardas. \n",
            "\n",
            "A defesa de Nova York manteve o jogo equilibrado. Com dois sacks seguidos, os Giants forçaram o punt e recuperaram a bola. Mas a campanha seguinte provou ser outra decepção para Nova York. O time chegou à linha de 25 jardas, mas Manning sofreu um sack e cometeu um fumble, e o ataque voltou para a linha de 39 jardas, não conseguindo pontuar mais uma vez.\n",
            "\n",
            "Os Patriots tiveram uma última chance de marcar antes do intervalo, mas, a 22 segundos do fim do segundo período, Brady foi novamente sacado. Desta vez, ele cometeu o fumble e os Giants tomaram a posse de bola. Manning tentou um passe longo, de 50 jardas, nos últimos segundos, mas não teve sucesso. \n",
            "\n",
            "O jogo continuou amarrado no terceiro quarto, com as defesas levando a melhor sobre os ataques. A única chance de pontuar do período foi dos Patriots, que chegaram à linha de 31 jardas dos Giants. O técnico Bill Bellichick, porém, optou por uma quarta descida em vez de um field goal. Brady tentou um passe para Jabar Gaffney, mas não conseguiu completar.\n",
            "\n",
            "O último período começou arrasador para os Giants. na primeira jogada, Manning achou o tight end Kevin Boss, para um incrível avanço de 45 jardas, que deixou o time na linha de 35 dos Patriots. Outro lançamento, desta vez para Steve Smith, marcou o avanço até a linha de 12 jardas. Duas jogadas depois, David Tyree pegou um passe de cinco jardas na end zone para anotar o touchdown e virar o jogo.\n",
            "\n",
            "Na hora da decisão, o ataque dos Patriots voltou a funcionar. Com uma série de passes curtos e variados, Brady achou Wes Welker, Randy Moss e Kevin Faulk seguidas vezes até chegar à red zone. A 2m45s do fim, o quarterback conectou mais uma vez com Moss, que se desmarcou e ficou livre na lateral direita da end zone.\n",
            "\n",
            "Quando os fãs de New England já comemoravam a vitória, o inesperado aconteceu. Em uma jogada incrível, Eli Manning se soltou de dois marcadores que o seguravam pela camisa e, na corrida, lançou para Amani Toomer. O wide receiver, bem marcado, saltou e conseguiu a fazer recepção para um avanço de 32 jardas, deixando os Giants na linha de 24 de New England.\n",
            "\n",
            "Quatro jogadas depois, a 39 segundos do fim, Manning achou Plaxico Burress na end zone para conseguir o touchdown do título.\n"
          ]
        }
      ]
    },
    {
      "cell_type": "code",
      "metadata": {
        "id": "3vYep3R0F5vc"
      },
      "source": [
        "# criando um arquivo de teste e instanciando na variável \"novo_arquivo\"\n",
        "novo_arquivo = open('/content/arquivo_teste.txt', 'w')"
      ],
      "execution_count": null,
      "outputs": []
    },
    {
      "cell_type": "code",
      "metadata": {
        "id": "pXqpD2bgNfOx"
      },
      "source": [
        "# realizando a escrita nesse arquivo criado\n",
        "novo_arquivo.write('Curso de PLN da aula 3')\n",
        "\n",
        "# fechando o arquivo após sua escrita\n",
        "novo_arquivo.close()"
      ],
      "execution_count": null,
      "outputs": []
    },
    {
      "cell_type": "code",
      "metadata": {
        "colab": {
          "base_uri": "https://localhost:8080/"
        },
        "id": "o9DYmPsaF5sq",
        "outputId": "e703662e-b52b-47b2-a7a9-c874e8bf1b74"
      },
      "source": [
        "# instanciando o \"arquivo_teste\" em uma nova variável \"novo_texto\"\n",
        "novo_texto = open('/content/arquivo_teste.txt', 'r')\n",
        "\n",
        "# realizando a leitura do \"novo_texto\"\n",
        "print(novo_texto.read())"
      ],
      "execution_count": null,
      "outputs": [
        {
          "output_type": "stream",
          "name": "stdout",
          "text": [
            "Curso de PLN da aula 3\n"
          ]
        }
      ]
    },
    {
      "cell_type": "code",
      "metadata": {
        "id": "hZtT74X8F5p-"
      },
      "source": [
        "# atualizando o arquivo \"novo_arquivo\"\n",
        "novo_arquivo = open('/content/arquivo_teste.txt', 'a')\n",
        "\n",
        "# escrevendo no arquivo\n",
        "novo_arquivo.write(' - por USP')\n",
        "novo_arquivo.close()  # fechando o arquivo"
      ],
      "execution_count": null,
      "outputs": []
    },
    {
      "cell_type": "code",
      "metadata": {
        "colab": {
          "base_uri": "https://localhost:8080/"
        },
        "id": "3d0Wp2aOF5nE",
        "outputId": "3712f703-f592-4e3e-ff28-8116460b52c9"
      },
      "source": [
        "novo_texto = open('/content/arquivo_teste.txt', 'r')\n",
        "\n",
        "# realizando a leitura do \"novo_texto\"\n",
        "print(novo_texto.read())"
      ],
      "execution_count": null,
      "outputs": [
        {
          "output_type": "stream",
          "name": "stdout",
          "text": [
            "Curso de PLN da aula 3 - por USP\n"
          ]
        }
      ]
    },
    {
      "cell_type": "code",
      "metadata": {
        "id": "t0bDewGtF5kW"
      },
      "source": [
        "# se houver necessidades de inserção de números no arquivo\n",
        "# é necessário realizar um \"cast\" da variável\n",
        "\n",
        "# exemplo\n",
        "# atualizando o arquivo \"novo_arquivo\"\n",
        "novo_arquivo = open('/content/arquivo_teste.txt', 'a')\n",
        "\n",
        "# escrevendo no arquivo\n",
        "novo_arquivo.write(' ' + str (2021))\n",
        "novo_arquivo.close()  # fechando o arquivo"
      ],
      "execution_count": null,
      "outputs": []
    },
    {
      "cell_type": "code",
      "metadata": {
        "colab": {
          "base_uri": "https://localhost:8080/"
        },
        "id": "PgI4aCheF5hd",
        "outputId": "574800cc-4bdb-4afb-b671-c74487c06c5d"
      },
      "source": [
        "novo_texto = open('/content/arquivo_teste.txt', 'r')\n",
        "\n",
        "# realizando a leitura do \"novo_texto\"\n",
        "print(novo_texto.read())"
      ],
      "execution_count": null,
      "outputs": [
        {
          "output_type": "stream",
          "name": "stdout",
          "text": [
            "Curso de PLN da aula 3 - por USP 2021\n"
          ]
        }
      ]
    },
    {
      "cell_type": "code",
      "metadata": {
        "id": "XE_6JAo2F5bV"
      },
      "source": [
        ""
      ],
      "execution_count": null,
      "outputs": []
    },
    {
      "cell_type": "code",
      "metadata": {
        "id": "lTqPfRt5F5ZI"
      },
      "source": [
        ""
      ],
      "execution_count": null,
      "outputs": []
    },
    {
      "cell_type": "code",
      "metadata": {
        "id": "wo6KZSnvF5XJ"
      },
      "source": [
        ""
      ],
      "execution_count": null,
      "outputs": []
    },
    {
      "cell_type": "code",
      "metadata": {
        "id": "IBPKVYwUF5Qb"
      },
      "source": [
        ""
      ],
      "execution_count": null,
      "outputs": []
    },
    {
      "cell_type": "code",
      "metadata": {
        "id": "C5-C_0TPF5Nq"
      },
      "source": [
        ""
      ],
      "execution_count": null,
      "outputs": []
    },
    {
      "cell_type": "code",
      "metadata": {
        "id": "lj955YfvF5LW"
      },
      "source": [
        ""
      ],
      "execution_count": null,
      "outputs": []
    },
    {
      "cell_type": "code",
      "metadata": {
        "id": "TpeVNa4vF5I9"
      },
      "source": [
        ""
      ],
      "execution_count": null,
      "outputs": []
    }
  ]
}